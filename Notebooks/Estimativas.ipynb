{
  "cells": [
    {
      "cell_type": "markdown",
      "metadata": {
        "id": "WvMflodMjQKe"
      },
      "source": [
        "***\n",
        "# <font color=green size=10>CURSO DE ESTATÍSTICA - PARTE 2</font>\n",
        "***\n",
        "\n",
        "## Trabalho sobre Probabilidades, Amostragem e Estimações\n",
        "\n",
        "Utilizando os conhecimentos adquiridos em nosso treinamento execute as tarefas abaixo. Siga o roteiro proposto e vá completando as células vazias."
      ]
    },
    {
      "cell_type": "markdown",
      "metadata": {
        "id": "cVgsZ_E3jQKg"
      },
      "source": [
        "# <font color=green>DATASET DO PROJETO</font>\n",
        "***"
      ]
    },
    {
      "cell_type": "markdown",
      "metadata": {
        "id": "iN1gIbaKjQKh"
      },
      "source": [
        "### Pesquisa Nacional por Amostra de Domicílios - 2015\n",
        "\n",
        "A <b>Pesquisa Nacional por Amostra de Domicílios - PNAD</b> investiga anualmente, de forma permanente, características gerais da população, de educação, trabalho, rendimento e habitação e outras, com periodicidade variável, de acordo com as necessidades de informação para o país, como as características sobre migração, fecundidade, nupcialidade, saúde, segurança alimentar, entre outros temas. O levantamento dessas estatísticas constitui, ao longo dos 49 anos de realização da pesquisa, um importante instrumento para formulação, validação e avaliação de políticas orientadas para o desenvolvimento socioeconômico e a melhoria das condições de vida no Brasil."
      ]
    },
    {
      "cell_type": "markdown",
      "metadata": {
        "id": "U6V7br1RjQKi"
      },
      "source": [
        "### Fonte dos Dados\n",
        "\n",
        "https://ww2.ibge.gov.br/home/estatistica/populacao/trabalhoerendimento/pnad2015/microdados.shtm"
      ]
    },
    {
      "cell_type": "markdown",
      "metadata": {
        "id": "r0Fe_qnzjQKj"
      },
      "source": [
        "### Variáveis utilizadas\n",
        "\n",
        "> ### Renda\n",
        "> ***\n",
        "\n",
        "Rendimento mensal do trabalho principal para pessoas de 10 anos ou mais de idade.\n",
        "\n",
        "> ### Idade\n",
        "> ***\n",
        "\n",
        "Idade do morador na data de referência em anos.\n",
        "\n",
        "> ### Altura (elaboração própria)\n",
        "> ***\n",
        "\n",
        "Altura do morador em metros.\n",
        "\n",
        "> ### UF\n",
        "> ***\n",
        "\n",
        "|Código|Descrição|\n",
        "|---|---|\n",
        "|11|Rondônia|\n",
        "|12|Acre|\n",
        "|13|Amazonas|\n",
        "|14|Roraima|\n",
        "|15|Pará|\n",
        "|16|Amapá|\n",
        "|17|Tocantins|\n",
        "|21|Maranhão|\n",
        "|22|Piauí|\n",
        "|23|Ceará|\n",
        "|24|Rio Grande do Norte|\n",
        "|25|Paraíba|\n",
        "|26|Pernambuco|\n",
        "|27|Alagoas|\n",
        "|28|Sergipe|\n",
        "|29|Bahia|\n",
        "|31|Minas Gerais|\n",
        "|32|Espírito Santo|\n",
        "|33|Rio de Janeiro|\n",
        "|35|São Paulo|\n",
        "|41|Paraná|\n",
        "|42|Santa Catarina|\n",
        "|43|Rio Grande do Sul|\n",
        "|50|Mato Grosso do Sul|\n",
        "|51|Mato Grosso|\n",
        "|52|Goiás|\n",
        "|53|Distrito Federal|\n",
        "\n",
        "> ### Sexo\t\n",
        "> ***\n",
        "\n",
        "|Código|Descrição|\n",
        "|---|---|\n",
        "|0|Masculino|\n",
        "|1|Feminino|\n",
        "\n",
        "> ### Anos de Estudo\n",
        "> ***\n",
        "\n",
        "|Código|Descrição|\n",
        "|---|---|\n",
        "|1|Sem instrução e menos de 1 ano|\n",
        "|2|1 ano|\n",
        "|3|2 anos|\n",
        "|4|3 anos|\n",
        "|5|4 anos|\n",
        "|6|5 anos|\n",
        "|7|6 anos|\n",
        "|8|7 anos|\n",
        "|9|8 anos|\n",
        "|10|9 anos|\n",
        "|11|10 anos|\n",
        "|12|11 anos|\n",
        "|13|12 anos|\n",
        "|14|13 anos|\n",
        "|15|14 anos|\n",
        "|16|15 anos ou mais|\n",
        "|17|Não determinados| \n",
        "||Não aplicável|\n",
        "\n",
        "> ### Cor\n",
        "> ***\n",
        "\n",
        "|Código|Descrição|\n",
        "|---|---|\n",
        "|0|Indígena|\n",
        "|2|Branca|\n",
        "|4|Preta|\n",
        "|6|Amarela|\n",
        "|8|Parda|\n",
        "|9|Sem declaração|"
      ]
    },
    {
      "cell_type": "markdown",
      "metadata": {
        "id": "OK1IQH5cX7Gb"
      },
      "source": [
        "#### <font color='red'>Observação</font>\n",
        "***\n",
        "> Os seguintes tratamentos foram realizados nos dados originais:\n",
        "> 1. Foram eliminados os registros onde a <b>Renda</b> era inválida (999 999 999 999);\n",
        "> 2. Foram eliminados os registros onde a <b>Renda</b> era missing;\n",
        "> 3. Foram considerados somente os registros das <b>Pessoas de Referência</b> de cada domicílio (responsável pelo domicílio)."
      ]
    },
    {
      "cell_type": "markdown",
      "metadata": {
        "id": "ZIqLOffNTg1Y"
      },
      "source": [
        "***\n",
        "***"
      ]
    },
    {
      "cell_type": "markdown",
      "metadata": {
        "id": "8Rw70V6ojQKk"
      },
      "source": [
        "### Utilize a célula abaixo para importar as bibliotecas que precisar para executar as tarefas\n",
        "#### <font color='red'>Sugestões: pandas, numpy, scipy etc.</font>"
      ]
    },
    {
      "cell_type": "code",
      "execution_count": 59,
      "metadata": {
        "id": "itHvj-WRKa86"
      },
      "outputs": [],
      "source": [
        "import pandas as pd\n",
        "import numpy as np\n",
        "import matplotlib.pyplot as plt\n",
        "from scipy.special import comb\n",
        "from scipy.stats import binom\n",
        "from scipy.stats import norm"
      ]
    },
    {
      "cell_type": "markdown",
      "metadata": {
        "id": "2a-gvBvCULwt"
      },
      "source": [
        "### Importe o dataset e armazene o conteúdo em uma DataFrame"
      ]
    },
    {
      "cell_type": "code",
      "execution_count": 60,
      "metadata": {
        "id": "ufRZ7TLwjQKo"
      },
      "outputs": [],
      "source": [
        "dados = pd.read_csv('dados.csv', sep = ',')"
      ]
    },
    {
      "cell_type": "markdown",
      "metadata": {
        "id": "Oq3CKHCmTg1j"
      },
      "source": [
        "### Visualize o conteúdo do DataFrame"
      ]
    },
    {
      "cell_type": "code",
      "execution_count": 61,
      "metadata": {
        "colab": {
          "base_uri": "https://localhost:8080/",
          "height": 206
        },
        "id": "GsC_WhLFjQKq",
        "scrolled": true,
        "outputId": "2fdedf67-bf81-4f52-8bcd-32699c1cde0e"
      },
      "outputs": [
        {
          "output_type": "execute_result",
          "data": {
            "text/plain": [
              "   UF  Sexo  Idade  Cor  Anos de Estudo  Renda    Altura\n",
              "0  11     0     23    8              12    800  1.603808\n",
              "1  11     1     23    2              12   1150  1.739790\n",
              "2  11     1     35    8              15    880  1.760444\n",
              "3  11     0     46    2               6   3500  1.783158\n",
              "4  11     1     47    8               9    150  1.690631"
            ],
            "text/html": [
              "\n",
              "  <div id=\"df-6d187d5d-79c2-4a70-8de9-558b7ae78432\">\n",
              "    <div class=\"colab-df-container\">\n",
              "      <div>\n",
              "<style scoped>\n",
              "    .dataframe tbody tr th:only-of-type {\n",
              "        vertical-align: middle;\n",
              "    }\n",
              "\n",
              "    .dataframe tbody tr th {\n",
              "        vertical-align: top;\n",
              "    }\n",
              "\n",
              "    .dataframe thead th {\n",
              "        text-align: right;\n",
              "    }\n",
              "</style>\n",
              "<table border=\"1\" class=\"dataframe\">\n",
              "  <thead>\n",
              "    <tr style=\"text-align: right;\">\n",
              "      <th></th>\n",
              "      <th>UF</th>\n",
              "      <th>Sexo</th>\n",
              "      <th>Idade</th>\n",
              "      <th>Cor</th>\n",
              "      <th>Anos de Estudo</th>\n",
              "      <th>Renda</th>\n",
              "      <th>Altura</th>\n",
              "    </tr>\n",
              "  </thead>\n",
              "  <tbody>\n",
              "    <tr>\n",
              "      <th>0</th>\n",
              "      <td>11</td>\n",
              "      <td>0</td>\n",
              "      <td>23</td>\n",
              "      <td>8</td>\n",
              "      <td>12</td>\n",
              "      <td>800</td>\n",
              "      <td>1.603808</td>\n",
              "    </tr>\n",
              "    <tr>\n",
              "      <th>1</th>\n",
              "      <td>11</td>\n",
              "      <td>1</td>\n",
              "      <td>23</td>\n",
              "      <td>2</td>\n",
              "      <td>12</td>\n",
              "      <td>1150</td>\n",
              "      <td>1.739790</td>\n",
              "    </tr>\n",
              "    <tr>\n",
              "      <th>2</th>\n",
              "      <td>11</td>\n",
              "      <td>1</td>\n",
              "      <td>35</td>\n",
              "      <td>8</td>\n",
              "      <td>15</td>\n",
              "      <td>880</td>\n",
              "      <td>1.760444</td>\n",
              "    </tr>\n",
              "    <tr>\n",
              "      <th>3</th>\n",
              "      <td>11</td>\n",
              "      <td>0</td>\n",
              "      <td>46</td>\n",
              "      <td>2</td>\n",
              "      <td>6</td>\n",
              "      <td>3500</td>\n",
              "      <td>1.783158</td>\n",
              "    </tr>\n",
              "    <tr>\n",
              "      <th>4</th>\n",
              "      <td>11</td>\n",
              "      <td>1</td>\n",
              "      <td>47</td>\n",
              "      <td>8</td>\n",
              "      <td>9</td>\n",
              "      <td>150</td>\n",
              "      <td>1.690631</td>\n",
              "    </tr>\n",
              "  </tbody>\n",
              "</table>\n",
              "</div>\n",
              "      <button class=\"colab-df-convert\" onclick=\"convertToInteractive('df-6d187d5d-79c2-4a70-8de9-558b7ae78432')\"\n",
              "              title=\"Convert this dataframe to an interactive table.\"\n",
              "              style=\"display:none;\">\n",
              "        \n",
              "  <svg xmlns=\"http://www.w3.org/2000/svg\" height=\"24px\"viewBox=\"0 0 24 24\"\n",
              "       width=\"24px\">\n",
              "    <path d=\"M0 0h24v24H0V0z\" fill=\"none\"/>\n",
              "    <path d=\"M18.56 5.44l.94 2.06.94-2.06 2.06-.94-2.06-.94-.94-2.06-.94 2.06-2.06.94zm-11 1L8.5 8.5l.94-2.06 2.06-.94-2.06-.94L8.5 2.5l-.94 2.06-2.06.94zm10 10l.94 2.06.94-2.06 2.06-.94-2.06-.94-.94-2.06-.94 2.06-2.06.94z\"/><path d=\"M17.41 7.96l-1.37-1.37c-.4-.4-.92-.59-1.43-.59-.52 0-1.04.2-1.43.59L10.3 9.45l-7.72 7.72c-.78.78-.78 2.05 0 2.83L4 21.41c.39.39.9.59 1.41.59.51 0 1.02-.2 1.41-.59l7.78-7.78 2.81-2.81c.8-.78.8-2.07 0-2.86zM5.41 20L4 18.59l7.72-7.72 1.47 1.35L5.41 20z\"/>\n",
              "  </svg>\n",
              "      </button>\n",
              "      \n",
              "  <style>\n",
              "    .colab-df-container {\n",
              "      display:flex;\n",
              "      flex-wrap:wrap;\n",
              "      gap: 12px;\n",
              "    }\n",
              "\n",
              "    .colab-df-convert {\n",
              "      background-color: #E8F0FE;\n",
              "      border: none;\n",
              "      border-radius: 50%;\n",
              "      cursor: pointer;\n",
              "      display: none;\n",
              "      fill: #1967D2;\n",
              "      height: 32px;\n",
              "      padding: 0 0 0 0;\n",
              "      width: 32px;\n",
              "    }\n",
              "\n",
              "    .colab-df-convert:hover {\n",
              "      background-color: #E2EBFA;\n",
              "      box-shadow: 0px 1px 2px rgba(60, 64, 67, 0.3), 0px 1px 3px 1px rgba(60, 64, 67, 0.15);\n",
              "      fill: #174EA6;\n",
              "    }\n",
              "\n",
              "    [theme=dark] .colab-df-convert {\n",
              "      background-color: #3B4455;\n",
              "      fill: #D2E3FC;\n",
              "    }\n",
              "\n",
              "    [theme=dark] .colab-df-convert:hover {\n",
              "      background-color: #434B5C;\n",
              "      box-shadow: 0px 1px 3px 1px rgba(0, 0, 0, 0.15);\n",
              "      filter: drop-shadow(0px 1px 2px rgba(0, 0, 0, 0.3));\n",
              "      fill: #FFFFFF;\n",
              "    }\n",
              "  </style>\n",
              "\n",
              "      <script>\n",
              "        const buttonEl =\n",
              "          document.querySelector('#df-6d187d5d-79c2-4a70-8de9-558b7ae78432 button.colab-df-convert');\n",
              "        buttonEl.style.display =\n",
              "          google.colab.kernel.accessAllowed ? 'block' : 'none';\n",
              "\n",
              "        async function convertToInteractive(key) {\n",
              "          const element = document.querySelector('#df-6d187d5d-79c2-4a70-8de9-558b7ae78432');\n",
              "          const dataTable =\n",
              "            await google.colab.kernel.invokeFunction('convertToInteractive',\n",
              "                                                     [key], {});\n",
              "          if (!dataTable) return;\n",
              "\n",
              "          const docLinkHtml = 'Like what you see? Visit the ' +\n",
              "            '<a target=\"_blank\" href=https://colab.research.google.com/notebooks/data_table.ipynb>data table notebook</a>'\n",
              "            + ' to learn more about interactive tables.';\n",
              "          element.innerHTML = '';\n",
              "          dataTable['output_type'] = 'display_data';\n",
              "          await google.colab.output.renderOutput(dataTable, element);\n",
              "          const docLink = document.createElement('div');\n",
              "          docLink.innerHTML = docLinkHtml;\n",
              "          element.appendChild(docLink);\n",
              "        }\n",
              "      </script>\n",
              "    </div>\n",
              "  </div>\n",
              "  "
            ]
          },
          "metadata": {},
          "execution_count": 61
        }
      ],
      "source": [
        "dados.head()"
      ]
    },
    {
      "cell_type": "markdown",
      "metadata": {
        "id": "Aa401USPKa9H"
      },
      "source": [
        "# <font color='green'>Problema A</font>"
      ]
    },
    {
      "cell_type": "markdown",
      "metadata": {
        "id": "yUQqpvW6Ka9I"
      },
      "source": [
        "Avaliando nosso dataset é possível verificar que a **proporção de homens** como chefes de domicílios é de quase **70%**. Precisamos **selecionar aleatoriamente grupos de 10 indivíduos** para verificar as diferenças entre os rendimentos em cada grupo. Qual a **probabilidade de selecionamos um grupo que apresente a mesma proporção da população**, ou seja, selecionarmos um grupo que seja **composto por 7 homens e 3 mulheres**?\n",
        "\n",
        "#### <font color='blue'>Como tarefa extra, verifique a real proporção de homens e mulheres em nosso dataset (vimos como fazer isso em nosso primeiro curso de estatística).</font>\n",
        "\n",
        "#### <font color='red'>Verifique que tipo de distribuição de probabilidade se encaixa neste experimento.</font>"
      ]
    },
    {
      "cell_type": "markdown",
      "metadata": {
        "id": "sD1EHuhrKa9I"
      },
      "source": [
        "### Solução - Binomial"
      ]
    },
    {
      "cell_type": "code",
      "execution_count": 62,
      "metadata": {
        "colab": {
          "base_uri": "https://localhost:8080/"
        },
        "id": "lbDcyHPTKa9J",
        "outputId": "e8878539-676e-4632-dfb0-1e6e3b9a606a"
      },
      "outputs": [
        {
          "output_type": "execute_result",
          "data": {
            "text/plain": [
              "0.7"
            ]
          },
          "metadata": {},
          "execution_count": 62
        }
      ],
      "source": [
        "#probabilidade\n",
        "p = 0.70\n",
        "p"
      ]
    },
    {
      "cell_type": "code",
      "execution_count": 63,
      "metadata": {
        "colab": {
          "base_uri": "https://localhost:8080/"
        },
        "id": "0_4L_QOnKa9L",
        "outputId": "c0802ecf-a5f2-4501-e82d-6b444bd09afd"
      },
      "outputs": [
        {
          "output_type": "execute_result",
          "data": {
            "text/plain": [
              "10"
            ]
          },
          "metadata": {},
          "execution_count": 63
        }
      ],
      "source": [
        "#tamanho do grupo\n",
        "n = 10\n",
        "n"
      ]
    },
    {
      "cell_type": "code",
      "execution_count": 64,
      "metadata": {
        "colab": {
          "base_uri": "https://localhost:8080/"
        },
        "id": "rl7sfPTYKa9N",
        "outputId": "b8ae712e-2019-437f-9cab-713c472c3940"
      },
      "outputs": [
        {
          "output_type": "execute_result",
          "data": {
            "text/plain": [
              "7"
            ]
          },
          "metadata": {},
          "execution_count": 64
        }
      ],
      "source": [
        "#quantos queremos que sejam homens\n",
        "k = 7\n",
        "k"
      ]
    },
    {
      "cell_type": "code",
      "execution_count": 65,
      "metadata": {
        "colab": {
          "base_uri": "https://localhost:8080/"
        },
        "id": "2LQ5lVzoKa9P",
        "outputId": "8faefd3c-4a52-4d66-f075-5b62ed53030d"
      },
      "outputs": [
        {
          "output_type": "stream",
          "name": "stdout",
          "text": [
            "A probabilidade de ter 7 homens num grupo de 10 pessoas é de 26.68%\n"
          ]
        }
      ],
      "source": [
        "#probabilidade de acontecimento\n",
        "probabilidade = binom.pmf(k, n, p)\n",
        "print('A probabilidade de ter 7 homens num grupo de 10 pessoas é de {:.02f}%'.format(probabilidade*100))"
      ]
    },
    {
      "cell_type": "code",
      "source": [
        "#proporção de homens e mulheres na base\n",
        "proporcao = dados['Sexo'].value_counts(normalize = True)\n",
        "print('Temos na nossa base {:.02f}% homens e {:.02f}% mulheres'.format(proporcao[0]*100, proporcao[1]*100))"
      ],
      "metadata": {
        "colab": {
          "base_uri": "https://localhost:8080/"
        },
        "id": "PeZNvLEvNaz6",
        "outputId": "22c281f9-d8a2-40d9-d1dc-4271455e6a83"
      },
      "execution_count": 66,
      "outputs": [
        {
          "output_type": "stream",
          "name": "stdout",
          "text": [
            "Temos na nossa base 69.30% homens e 30.70% mulheres\n"
          ]
        }
      ]
    },
    {
      "cell_type": "markdown",
      "metadata": {
        "id": "xhpA2dSYKa9R"
      },
      "source": [
        "# <font color='green'>Problema B</font>"
      ]
    },
    {
      "cell_type": "markdown",
      "metadata": {
        "id": "fSu7XWKnKa9S"
      },
      "source": [
        "Ainda sobre a questão anterior, **quantos grupos de 10 indivíduos** nós precisaríamos selecionar, de forma aleatória, para conseguir **100 grupos compostos por 7 homens e 3 mulheres**?\n",
        "\n",
        "#### <font color='red'>Lembre-se da forma de cálculo da média de uma distribuição binomial</font>"
      ]
    },
    {
      "cell_type": "markdown",
      "metadata": {
        "id": "Q3wWq7z2Ka9S"
      },
      "source": [
        "### Solução"
      ]
    },
    {
      "cell_type": "code",
      "execution_count": 67,
      "metadata": {
        "colab": {
          "base_uri": "https://localhost:8080/"
        },
        "id": "F27eIYXzKa9T",
        "outputId": "ef18bd11-72ce-44d8-ea94-82e741011d51"
      },
      "outputs": [
        {
          "output_type": "stream",
          "name": "stdout",
          "text": [
            "Para conseguir 100 grupos composto por 7 homens e 3 mulheres, precisamos selecionar de forma aleatória 375 grupos\n"
          ]
        }
      ],
      "source": [
        "# Média = tamanho do grupo (n) * probabilidade, como precisamos de quantos grupos precisamos formar, \n",
        "# pegamos a média que precisamos encontrar (100) / a probabilidade conhecida, alterando a função para:\n",
        "# tamanho do grupo (n) = Média (100) / probabilidade de acontecer (0.2668)\n",
        "x = 100\n",
        "probabilidade = binom.pmf(k, n, p)\n",
        "x / probabilidade\n",
        "print('Para conseguir 100 grupos composto por 7 homens e 3 mulheres, precisamos selecionar de forma aleatória {:.0f} grupos'.format(int((x / probabilidade).round())))"
      ]
    },
    {
      "cell_type": "markdown",
      "metadata": {
        "id": "5OKBEMUNKa9V"
      },
      "source": [
        "# <font color='green'>Problema C</font>"
      ]
    },
    {
      "cell_type": "markdown",
      "metadata": {
        "id": "xEpjzbwBKa9W"
      },
      "source": [
        "Um cliente nos encomendou um estudo para avaliar o **rendimento dos chefes de domicílio no Brasil**. Para isso precisamos realizar uma nova coleta de dados, isto é, uma nova pesquisa de campo. Após reunião com o cliente foi possível elencar o seguinte conjunto de informações:\n",
        "\n",
        "> A. O resultado da pesquisa precisa estar pronto em **2 meses**;\n",
        "\n",
        "> B. Teremos somente **R$\\$$ 150.000,00** de recursos para realização da pesquisa de campo; e\n",
        "    \n",
        "> C. Seria interessante uma **margem de erro não superior a 10% em relação a média estimada**.\n",
        "\n",
        "Em nossa experiência com estudos deste tipo, sabemos que o **custo médio por indivíduo entrevistado fica em torno de R$\\$$ 100,00**. Com este conjunto de fatos avalie e obtenha o seguinte conjunto de informações para passar ao cliente:\n",
        "\n",
        "\n",
        "> 1. Para obter uma estimativa para os parâmetros da população (renda dos chefes de domicílio no Brasil), realize uma amostragem aleatória simples em nosso conjunto de dados. Essa amostra deve conter 200 elementos (utilize random_state = 101 para garantir que o mesmo experimento posso ser realizado novamente). Obtenha a média e o desvio-padrão dessa amostra.\n",
        "    \n",
        "> 2. Para a **margem de erro** especificada pelo cliente obtenha os **tamanhos de amostra** necessários para garantir os **níveis de confiança de 90%, 95% e 99%**.\n",
        "    \n",
        "> 3. Obtenha o **custo da pesquisa** para os três níveis de confiança.\n",
        "    \n",
        "> 4. Para o maior nível de confiança viável (dentro do orçamento disponível), obtenha um **intervalo de confiança para a média da população**.\n",
        "    \n",
        "> 5. Assumindo o **nível de confiança escolhido no item anterior**, qual **margem de erro** pode ser considerada utilizando todo o recurso disponibilizado pelo cliente?\n",
        "    \n",
        "> 6. Assumindo um **nível de confiança de 95%**, **quanto a pesquisa custaria ao cliente** caso fosse considerada uma **margem de erro de apenas 5%** em relação a média estimada?\n"
      ]
    },
    {
      "cell_type": "markdown",
      "metadata": {
        "id": "m4qMQ4kdKa9W"
      },
      "source": [
        "# <font color='blue'>Solução do item 1</font>"
      ]
    },
    {
      "cell_type": "markdown",
      "metadata": {
        "id": "fNb4Yb3RKa9X"
      },
      "source": [
        "### Seleção de uma amostra aleatório simples\n",
        "\n",
        "#### <font color='red'>Lembre-se de utilizar *random_state = 101*</font>"
      ]
    },
    {
      "cell_type": "code",
      "execution_count": 68,
      "metadata": {
        "id": "_HxUH0AhKa9X"
      },
      "outputs": [],
      "source": [
        "#coletando a amostra do tamanho desejado\n",
        "amostra_dados = dados.sample(n = 200, random_state = 101)"
      ]
    },
    {
      "cell_type": "code",
      "execution_count": 69,
      "metadata": {
        "colab": {
          "base_uri": "https://localhost:8080/"
        },
        "id": "fJBYID7pKa9Z",
        "outputId": "f1d2cce1-a21e-4419-d6e9-43662022b1b5"
      },
      "outputs": [
        {
          "output_type": "stream",
          "name": "stdout",
          "text": [
            "A média de renda da nossa amostra é de 1964.20\n"
          ]
        }
      ],
      "source": [
        "#calculando a renda média da amostra\n",
        "media_amostra = amostra_dados['Renda'].mean()\n",
        "print('A média de renda da nossa amostra é de {:.02f}'.format(media_amostra))"
      ]
    },
    {
      "cell_type": "code",
      "execution_count": 70,
      "metadata": {
        "colab": {
          "base_uri": "https://localhost:8080/"
        },
        "id": "BXkTyV07Ka9c",
        "outputId": "5129e305-5304-4270-cf6f-d223223c8479"
      },
      "outputs": [
        {
          "output_type": "stream",
          "name": "stdout",
          "text": [
            "O desvio padrão de renda da nossa amostra é de 3139.89\n"
          ]
        }
      ],
      "source": [
        "#calculando o desvio padrão da renda da nossa amostra\n",
        "sigma = amostra_dados['Renda'].std()\n",
        "print('O desvio padrão de renda da nossa amostra é de {:.02f}'.format(sigma))"
      ]
    },
    {
      "cell_type": "markdown",
      "metadata": {
        "id": "waULC4fmKa9i"
      },
      "source": [
        "# <font color='blue'>Solução do item 2</font>"
      ]
    },
    {
      "cell_type": "markdown",
      "source": [
        "#### Com desvio padrão conhecido\n",
        "\n",
        "## $$n = \\left(z\\frac{\\sigma}{e}\\right)^2$$\n",
        "\n",
        "#### Com desvio padrão desconhecido\n",
        "\n",
        "## $$n = \\left(z\\frac{s}{e}\\right)^2$$\n",
        "\n",
        "Onde:\n",
        "\n",
        "$z$ = variável normal padronizada\n",
        "\n",
        "$\\sigma$ = desvio padrão populacional\n",
        "\n",
        "$s$ = desvio padrão amostral\n",
        "\n",
        "$e$ = erro inferencial"
      ],
      "metadata": {
        "id": "53FOofi8W3Le"
      }
    },
    {
      "cell_type": "markdown",
      "metadata": {
        "id": "dIFt1F2AKa9i"
      },
      "source": [
        "### Obtenha a margem de erro\n",
        "\n",
        "#### <font color='red'>Lembre-se que a margem de erro deve estar na mesma unidade da variável que está sendo estudada (R$)</font>"
      ]
    },
    {
      "cell_type": "code",
      "source": [
        "# O erro é 10% do valor da média da amostra, definido pelo cliente\n",
        "erro = media_amostra * 0.10\n",
        "print('A margem de erro deve ser de R$ {:.02f}'.format(erro))"
      ],
      "metadata": {
        "colab": {
          "base_uri": "https://localhost:8080/"
        },
        "id": "N3_eQzILSeAL",
        "outputId": "32675089-0970-4980-a973-355b12d0653e"
      },
      "execution_count": 86,
      "outputs": [
        {
          "output_type": "stream",
          "name": "stdout",
          "text": [
            "A margem de erro deve ser de R$ 196.42\n"
          ]
        }
      ]
    },
    {
      "cell_type": "markdown",
      "metadata": {
        "id": "pLoYC--IKa9l"
      },
      "source": [
        "### Tamanho da amostra ($1 - \\alpha = 90\\%$)"
      ]
    },
    {
      "cell_type": "code",
      "execution_count": 72,
      "metadata": {
        "colab": {
          "base_uri": "https://localhost:8080/"
        },
        "id": "-BteoZ6JKa9m",
        "outputId": "acc25e98-d599-40d0-be33-7bdd126d75d7"
      },
      "outputs": [
        {
          "output_type": "execute_result",
          "data": {
            "text/plain": [
              "1.6448536269514722"
            ]
          },
          "metadata": {},
          "execution_count": 72
        }
      ],
      "source": [
        "#vamos padronizar Z para 90%\n",
        "valor_z_90 = 0.5 + (0.90 / 2)\n",
        "z_90 = norm.ppf(valor_z_90)\n",
        "z_90"
      ]
    },
    {
      "cell_type": "code",
      "execution_count": 89,
      "metadata": {
        "colab": {
          "base_uri": "https://localhost:8080/"
        },
        "id": "2d8PcF9iKa9o",
        "outputId": "f8870786-14c0-4de9-e2bb-913fbe089ce8"
      },
      "outputs": [
        {
          "output_type": "stream",
          "name": "stdout",
          "text": [
            "Para um nível de confiança de 90% teremos que ter uma amostra de 691.00\n"
          ]
        }
      ],
      "source": [
        "#calculando N pela fórmula dele acima\n",
        "n_90 = (z_90 * (sigma / erro)) ** 2\n",
        "print('Para um nível de confiança de 90% teremos que ter uma amostra de {:.02f}'.format(int(n_90.round())))"
      ]
    },
    {
      "cell_type": "markdown",
      "metadata": {
        "id": "brh0CpeSKa9q"
      },
      "source": [
        "### Tamanho da amostra ($1 - \\alpha = 95\\%$)"
      ]
    },
    {
      "cell_type": "code",
      "execution_count": 74,
      "metadata": {
        "colab": {
          "base_uri": "https://localhost:8080/"
        },
        "id": "8NtV47kVKa9q",
        "outputId": "df117b96-5c03-4e13-a3e5-aca02a80bb4e"
      },
      "outputs": [
        {
          "output_type": "execute_result",
          "data": {
            "text/plain": [
              "1.959963984540054"
            ]
          },
          "metadata": {},
          "execution_count": 74
        }
      ],
      "source": [
        "#vamos padronizar Z para 95%\n",
        "valor_z_95 = 0.5 + (0.95 / 2)\n",
        "z_95 = norm.ppf(valor_z_95)\n",
        "z_95"
      ]
    },
    {
      "cell_type": "code",
      "execution_count": 90,
      "metadata": {
        "colab": {
          "base_uri": "https://localhost:8080/"
        },
        "id": "keyN_N8xKa9w",
        "outputId": "cbebc4ef-ea39-4324-8e9d-5e74320b7eed"
      },
      "outputs": [
        {
          "output_type": "stream",
          "name": "stdout",
          "text": [
            "Para um nível de confiança de 95% teremos que ter uma amostra de 982.00\n"
          ]
        }
      ],
      "source": [
        "#calculando N pela fórmula dele acima\n",
        "n_95 = (z_95 * (sigma / erro)) ** 2\n",
        "print('Para um nível de confiança de 95% teremos que ter uma amostra de {:.02f}'.format(int(n_95.round())))"
      ]
    },
    {
      "cell_type": "markdown",
      "metadata": {
        "id": "rAEX9_qFKa9y"
      },
      "source": [
        "### Tamanho da amostra ($1 - \\alpha = 99\\%$)"
      ]
    },
    {
      "cell_type": "code",
      "execution_count": 76,
      "metadata": {
        "colab": {
          "base_uri": "https://localhost:8080/"
        },
        "id": "dvFHNFsLKa9y",
        "outputId": "ca9285ec-2ec8-43a2-c688-ae09f054a5da"
      },
      "outputs": [
        {
          "output_type": "execute_result",
          "data": {
            "text/plain": [
              "2.5758293035489004"
            ]
          },
          "metadata": {},
          "execution_count": 76
        }
      ],
      "source": [
        "#vamos padronizar Z para 99%\n",
        "valor_z_99 = 0.5 + (0.99 / 2)\n",
        "z_99 = norm.ppf(valor_z_99)\n",
        "z_99"
      ]
    },
    {
      "cell_type": "code",
      "execution_count": 92,
      "metadata": {
        "colab": {
          "base_uri": "https://localhost:8080/"
        },
        "id": "eTCtwDw_Ka90",
        "outputId": "6ae06db8-ac9f-48f2-ee5a-0e3d931cac59"
      },
      "outputs": [
        {
          "output_type": "stream",
          "name": "stdout",
          "text": [
            "Para um nível de confiança de 99% teremos que ter uma amostra de 1695.00\n"
          ]
        }
      ],
      "source": [
        "#calculando N pela fórmula dele acima\n",
        "n_99 = (z_99 * (sigma / erro)) ** 2\n",
        "print('Para um nível de confiança de 99% teremos que ter uma amostra de {:.02f}'.format(int(n_99.round())))"
      ]
    },
    {
      "cell_type": "markdown",
      "metadata": {
        "id": "n3dILIrGKa93"
      },
      "source": [
        "# <font color='blue'>Solução do item 3</font>"
      ]
    },
    {
      "cell_type": "markdown",
      "metadata": {
        "id": "SzkxkOB6Ka93"
      },
      "source": [
        "### Custo da pesquisa para o nível de confiança de 90%"
      ]
    },
    {
      "cell_type": "code",
      "execution_count": 98,
      "metadata": {
        "colab": {
          "base_uri": "https://localhost:8080/"
        },
        "id": "j_0BpUBMKa95",
        "outputId": "2f0094e2-7995-477c-9b0f-f9c1448cf6bd"
      },
      "outputs": [
        {
          "output_type": "stream",
          "name": "stdout",
          "text": [
            "Para um nível de confiança de 90% teremos um custo de R$ 69,136.68\n"
          ]
        }
      ],
      "source": [
        "#preço unitário da pesquisa * tamanho da amostra\n",
        "custo_pesquisa_90 = 100 * n_90\n",
        "print('Para um nível de confiança de 90% teremos um custo de R$ {:,.02f}'.format(custo_pesquisa_90.round(2)))"
      ]
    },
    {
      "cell_type": "markdown",
      "metadata": {
        "id": "DdoUIGXkKa97"
      },
      "source": [
        "### Custo da pesquisa para o nível de confiança de 95%"
      ]
    },
    {
      "cell_type": "code",
      "execution_count": 99,
      "metadata": {
        "colab": {
          "base_uri": "https://localhost:8080/"
        },
        "id": "R4YQV7_EKa97",
        "outputId": "b3e09e48-75b3-43ea-bf0b-947cd82e88a2"
      },
      "outputs": [
        {
          "output_type": "stream",
          "name": "stdout",
          "text": [
            "Para um nível de confiança de 95% teremos um custo de R$ 98,163.53\n"
          ]
        }
      ],
      "source": [
        "#preço unitário da pesquisa * tamanho da amostra\n",
        "custo_pesquisa_95 = 100 * n_95\n",
        "print('Para um nível de confiança de 95% teremos um custo de R$ {:,.02f}'.format(custo_pesquisa_95.round(2)))"
      ]
    },
    {
      "cell_type": "markdown",
      "metadata": {
        "id": "f4SppXkOKa9-"
      },
      "source": [
        "### Custo da pesquisa para o nível de confiança de 99%"
      ]
    },
    {
      "cell_type": "code",
      "execution_count": 100,
      "metadata": {
        "colab": {
          "base_uri": "https://localhost:8080/"
        },
        "id": "7fZucTJIKa9-",
        "outputId": "8ba73002-e3f3-4758-ab0f-829561687c73"
      },
      "outputs": [
        {
          "output_type": "stream",
          "name": "stdout",
          "text": [
            "Para um nível de confiança de 99% teremos um custo de R$ 169,546.24\n"
          ]
        }
      ],
      "source": [
        "#preço unitário da pesquisa * tamanho da amostra\n",
        "custo_pesquisa_99 = 100 * n_99\n",
        "print('Para um nível de confiança de 99% teremos um custo de R$ {:,.02f}'.format(custo_pesquisa_99.round(2)))"
      ]
    },
    {
      "cell_type": "markdown",
      "metadata": {
        "id": "0HVhFFfMKa-A"
      },
      "source": [
        "# <font color='blue'>Solução do item 4</font>"
      ]
    },
    {
      "cell_type": "code",
      "execution_count": 104,
      "metadata": {
        "colab": {
          "base_uri": "https://localhost:8080/"
        },
        "id": "uTePzAGQKa-B",
        "outputId": "d2d15a45-1330-40ad-c719-2342e4f540c6"
      },
      "outputs": [
        {
          "output_type": "stream",
          "name": "stdout",
          "text": [
            "O intervalo de confiança varia de 1767.78 até 2160.63\n"
          ]
        }
      ],
      "source": [
        "# O valor que cabe no orçamento e que tem o maior significância é de 95%\n",
        "intervalo = norm.interval(alpha = 0.95, loc = media_amostra, scale = sigma / np.sqrt(n_95))\n",
        "print('O intervalo de confiança varia de {:.02f} até {:.02f}'.format(intervalo[0].round(2), intervalo[1].round(2)))"
      ]
    },
    {
      "cell_type": "markdown",
      "metadata": {
        "id": "n8uxkOcPKa-D"
      },
      "source": [
        "# <font color='blue'>Solução do item 5</font>"
      ]
    },
    {
      "cell_type": "code",
      "execution_count": 107,
      "metadata": {
        "colab": {
          "base_uri": "https://localhost:8080/"
        },
        "id": "AaGOyW4pKa-E",
        "outputId": "7c504dc6-4e7c-4a9e-a361-46a5fd6572a0"
      },
      "outputs": [
        {
          "output_type": "execute_result",
          "data": {
            "text/plain": [
              "1500.0"
            ]
          },
          "metadata": {},
          "execution_count": 107
        }
      ],
      "source": [
        "#primeiro calculamos o número de entrevistas que podemos fazer com o recurso que temos de 150 mil\n",
        "#sendo o número de entrevistas, o novo N\n",
        "n_novo_95 = 150000/100\n",
        "n_novo_95"
      ]
    },
    {
      "cell_type": "code",
      "source": [
        "#depois calculamos o novo erro com base no novo N\n",
        "z_new = norm.ppf(0.975)\n",
        "e_new = z_new * (sigma / np.sqrt(n_novo_95))\n",
        "e_new"
      ],
      "metadata": {
        "colab": {
          "base_uri": "https://localhost:8080/"
        },
        "id": "NF0nNt9ke9OZ",
        "outputId": "9537cf7a-6446-42fd-a17d-a3fd3279e384"
      },
      "execution_count": 114,
      "outputs": [
        {
          "output_type": "execute_result",
          "data": {
            "text/plain": [
              "158.89721122673703"
            ]
          },
          "metadata": {},
          "execution_count": 114
        }
      ]
    },
    {
      "cell_type": "code",
      "execution_count": 116,
      "metadata": {
        "colab": {
          "base_uri": "https://localhost:8080/"
        },
        "id": "SMIRTmytKa-I",
        "outputId": "8e668050-a195-49d2-cfea-e7f1fd47b61f"
      },
      "outputs": [
        {
          "output_type": "stream",
          "name": "stdout",
          "text": [
            "A margem de erro é de 8.09%\n"
          ]
        }
      ],
      "source": [
        "#agora calculamos a nova margem de erro\n",
        "e_percentual = e_new / media_amostra\n",
        "print('A margem de erro é de {:.02f}%'.format(e_percentual*100))"
      ]
    },
    {
      "cell_type": "markdown",
      "metadata": {
        "id": "ood3yi8mKa-K"
      },
      "source": [
        "# <font color='blue'>Solução do item 6</font>"
      ]
    },
    {
      "cell_type": "code",
      "execution_count": 120,
      "metadata": {
        "colab": {
          "base_uri": "https://localhost:8080/"
        },
        "id": "U0f55DxHKa-K",
        "outputId": "081cf75d-4ad9-40b0-8b5c-58bb64c22179"
      },
      "outputs": [
        {
          "output_type": "stream",
          "name": "stdout",
          "text": [
            "Iremos entrevistar 3926 pessoas\n",
            "Com uma margem de erro de 5.00% o custo para o cliente ficaria em R$ 392,654.14\n"
          ]
        }
      ],
      "source": [
        "erro = media_amostra * 0.05\n",
        "erro\n",
        "sigma = amostra_dados['Renda'].std()\n",
        "z = norm.ppf(0.5 + (0.95 / 2))\n",
        "n = (z * (sigma / erro)) ** 2\n",
        "print('Iremos entrevistar {} pessoas'.format(int(n)))\n",
        "custo = 100 * n\n",
        "custo\n",
        "print('Com uma margem de erro de 5.00% o custo para o cliente ficaria em R$ {:,.02f}'.format(custo))"
      ]
    }
  ],
  "metadata": {
    "colab": {
      "provenance": [],
      "collapsed_sections": [
        "WvMflodMjQKe",
        "cVgsZ_E3jQKg",
        "iN1gIbaKjQKh",
        "U6V7br1RjQKi",
        "r0Fe_qnzjQKj",
        "OK1IQH5cX7Gb",
        "8Rw70V6ojQKk",
        "2a-gvBvCULwt",
        "Oq3CKHCmTg1j",
        "Aa401USPKa9H",
        "yUQqpvW6Ka9I",
        "sD1EHuhrKa9I",
        "xhpA2dSYKa9R",
        "fSu7XWKnKa9S",
        "Q3wWq7z2Ka9S",
        "5OKBEMUNKa9V",
        "m4qMQ4kdKa9W",
        "fNb4Yb3RKa9X",
        "waULC4fmKa9i",
        "53FOofi8W3Le",
        "dIFt1F2AKa9i",
        "brh0CpeSKa9q",
        "rAEX9_qFKa9y",
        "n3dILIrGKa93",
        "DdoUIGXkKa97",
        "f4SppXkOKa9-",
        "0HVhFFfMKa-A",
        "n8uxkOcPKa-D",
        "ood3yi8mKa-K"
      ]
    },
    "kernelspec": {
      "display_name": "Python 3",
      "language": "python",
      "name": "python3"
    },
    "language_info": {
      "codemirror_mode": {
        "name": "ipython",
        "version": 3
      },
      "file_extension": ".py",
      "mimetype": "text/x-python",
      "name": "python",
      "nbconvert_exporter": "python",
      "pygments_lexer": "ipython3",
      "version": "3.6.5"
    }
  },
  "nbformat": 4,
  "nbformat_minor": 0
}